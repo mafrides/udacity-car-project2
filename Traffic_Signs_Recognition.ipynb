{
 "cells": [
  {
   "cell_type": "markdown",
   "metadata": {},
   "source": [
    "# Self-Driving Car Engineer Nanodegree\n",
    "\n",
    "## Deep Learning\n",
    "\n",
    "## Project: Build a Traffic Sign Recognition Classifier\n",
    "\n",
    "In this notebook, a template is provided for you to implement your functionality in stages which is required to successfully complete this project. If additional code is required that cannot be included in the notebook, be sure that the Python code is successfully imported and included in your submission, if necessary. Sections that begin with **'Implementation'** in the header indicate where you should begin your implementation for your project. Note that some sections of implementation are optional, and will be marked with **'Optional'** in the header.\n",
    "\n",
    "In addition to implementing code, there will be questions that you must answer which relate to the project and your implementation. Each section where you will answer a question is preceded by a **'Question'** header. Carefully read each question and provide thorough answers in the following text boxes that begin with **'Answer:'**. Your project submission will be evaluated based on your answers to each of the questions and the implementation you provide.\n",
    "\n",
    ">**Note:** Code and Markdown cells can be executed using the **Shift + Enter** keyboard shortcut. In addition, Markdown cells can be edited by typically double-clicking the cell to enter edit mode."
   ]
  },
  {
   "cell_type": "markdown",
   "metadata": {},
   "source": [
    "---\n",
    "\n",
    "## Step 1: Dataset Exploration\n",
    "\n",
    "Visualize the German Traffic Signs Dataset. This is open ended, some suggestions include: plotting traffic signs images, plotting the count of each sign, etc. Be creative!\n",
    "\n",
    "\n",
    "The pickled data is a dictionary with 4 key/value pairs:\n",
    "\n",
    "- features -> the images pixel values, (width, height, channels)\n",
    "- labels -> the label of the traffic sign\n",
    "- sizes -> the original width and height of the image, (width, height)\n",
    "- coords -> coordinates of a bounding box around the sign in the image, (x1, y1, x2, y2). Based the original image (not the resized version)."
   ]
  },
  {
   "cell_type": "code",
   "execution_count": null,
   "metadata": {
    "collapsed": false
   },
   "outputs": [],
   "source": [
    "# Load pickled data\n",
    "import pickle\n",
    "import numpy as np\n",
    "import cv2\n",
    "import random\n",
    "\n",
    "# TODO: fill this in based on where you saved the training and testing data\n",
    "training_file = 'train.p'\n",
    "testing_file = 'test.p'\n",
    "\n",
    "with open(training_file, mode='rb') as f:\n",
    "    train = pickle.load(f)\n",
    "with open(testing_file, mode='rb') as f:\n",
    "    test = pickle.load(f)\n",
    "    \n",
    "X_train, y_train = train['features'], train['labels']\n",
    "X_test, y_test = test['features'], test['labels']"
   ]
  },
  {
   "cell_type": "code",
   "execution_count": null,
   "metadata": {
    "collapsed": false
   },
   "outputs": [],
   "source": [
    "### To start off let's do a basic data summary.\n",
    "\n",
    "# TODO: number of training examples\n",
    "n_train = len(X_train)\n",
    "\n",
    "# TODO: number of testing examples\n",
    "n_test = len(X_test)\n",
    "\n",
    "# TODO: what's the shape of an image?\n",
    "image_shape = str(len(X_test[0])) + ' x ' + str(len(X_test[0][0]))\n",
    "\n",
    "# TODO: how many classes are in the dataset\n",
    "n_classes = max(y_train) + 1\n",
    "\n",
    "print(\"Number of training examples =\", n_train)\n",
    "print(\"Number of testing examples =\", n_test)\n",
    "print(\"Image data shape =\", image_shape)\n",
    "print(\"Number of classes =\", n_classes)"
   ]
  },
  {
   "cell_type": "code",
   "execution_count": null,
   "metadata": {
    "collapsed": true
   },
   "outputs": [],
   "source": [
    "### Data exploration visualization goes here.\n",
    "### Feel free to use as many code cells as needed.\n",
    "import matplotlib.pyplot as plot"
   ]
  },
  {
   "cell_type": "code",
   "execution_count": null,
   "metadata": {
    "collapsed": false
   },
   "outputs": [],
   "source": [
    "plot.hist(y_train, bins=n_classes)\n",
    "plot.title('Training Examples per Class')\n",
    "plot.xlabel('Class')\n",
    "plot.ylabel('Frequency')\n",
    "plot.show()"
   ]
  },
  {
   "cell_type": "code",
   "execution_count": null,
   "metadata": {
    "collapsed": false
   },
   "outputs": [],
   "source": [
    "plot.hist(y_test, bins=n_classes)\n",
    "plot.title('Tests per Class')\n",
    "plot.xlabel('Class')\n",
    "plot.ylabel('Frequency')\n",
    "plot.show()"
   ]
  },
  {
   "cell_type": "code",
   "execution_count": null,
   "metadata": {
    "collapsed": false
   },
   "outputs": [],
   "source": [
    "class_examples = [None] * n_classes\n",
    "\n",
    "for i in range(len(y_test)):\n",
    "    class_number = y_test[i]\n",
    "    class_examples[class_number] = X_test[i]\n",
    "   \n",
    "def show_img_plot_gray(name, img, figure_num):\n",
    "    plot.figure(figure_num)\n",
    "    plot.imshow(img, cmap='gray')\n",
    "    plot.title(name)\n",
    "    plot.show()\n",
    "\n",
    "def show_img_plot(name, img, figure_num):\n",
    "    plot.figure(figure_num)\n",
    "    plot.imshow(img)\n",
    "    plot.title(name)\n",
    "    plot.show()\n",
    "    \n",
    "for i in range(n_classes):\n",
    "    class_example = class_examples[i]\n",
    "    show_img_plot('Class ' + str(i), class_example, i * 10)\n",
    "    # V of HSV\n",
    "    img = cv2.cvtColor(class_example.copy(), cv2.COLOR_RGB2HSV)\n",
    "    img = img[:,:,2]\n",
    "    show_img_plot_gray('Class ' + str(i) + ' V of HSV', img, i * 10 + 1)\n",
    "    # L of HLS\n",
    "    img = cv2.cvtColor(class_example.copy(), cv2.COLOR_RGB2HLS)\n",
    "    img = img[:,:,1]\n",
    "    show_img_plot_gray('Class ' + str(i) + ' L of HLS', img, i * 10 + 2)\n",
    "    # Y of YUV\n",
    "    img = cv2.cvtColor(class_example.copy(), cv2.COLOR_RGB2YUV)\n",
    "    img = img[:,:,0]\n",
    "    show_img_plot_gray('Class ' + str(i) + ' Y of YUV', img, i * 10 + 3)\n",
    "    # R of RGB\n",
    "    img = class_example[:,:,0]\n",
    "    show_img_plot_gray('Class ' + str(i) + ' R of RGB', img, i * 10 + 4)\n",
    "    # B of RGB\n",
    "    img = class_example[:,:,2]\n",
    "    show_img_plot_gray('Class ' + str(i) + ' B of RGB', img, i * 10 + 5)\n",
    "    # grayscale\n",
    "    img = cv2.cvtColor(class_example.copy(), cv2.COLOR_RGB2GRAY)\n",
    "    show_img_plot_gray('Class ' + str(i) + ' grayscale', img, i * 10 + 6)\n",
    "    # Canny\n",
    "    img = cv2.Canny(img, 50, 150)\n",
    "    show_img_plot_gray('Class ' + str(i) + ' grayscale + canny', img, i * 10 + 7)\n",
    "    "
   ]
  },
  {
   "cell_type": "markdown",
   "metadata": {},
   "source": [
    "----\n",
    "\n",
    "## Step 2: Design and Test a Model Architecture\n",
    "\n",
    "Design and implement a deep learning model that learns to recognize traffic signs. Train and test your model on the [German Traffic Sign Dataset](http://benchmark.ini.rub.de/?section=gtsrb&subsection=dataset).\n",
    "\n",
    "There are various aspects to consider when thinking about this problem:\n",
    "\n",
    "- Your model can be derived from a deep feedforward net or a deep convolutional network.\n",
    "- Play around preprocessing techniques (normalization, rgb to grayscale, etc)\n",
    "- Number of examples per label (some have more than others).\n",
    "- Generate fake data.\n",
    "\n",
    "Here is an example of a [published baseline model on this problem](http://yann.lecun.com/exdb/publis/pdf/sermanet-ijcnn-11.pdf). It's not required to be familiar with the approach used in the paper but, it's good practice to try to read papers like these."
   ]
  },
  {
   "cell_type": "markdown",
   "metadata": {},
   "source": [
    "### Implementation\n",
    "\n",
    "Use the code cell (or multiple code cells, if necessary) to implement the first step of your project. Once you have completed your implementation and are satisfied with the results, be sure to thoroughly answer the questions that follow.\n",
    "\n",
    "Notes:\n",
    "\n",
    "Possible pre-processing techniques:\n",
    "(from attached paper)\n",
    "- grayscale\n",
    "- convert to YUV and take Y\n",
    "- convert to YUV and normalize Y only\n",
    "- global and local contrast normalization\n",
    "\n",
    "From comparison above, Y of YUV, L of HLS look best, followed by grayscale\n",
    "V of HSV does not seem to work for some cases\n",
    "R or B of RGB seem to provide better contrast in some very dark edge cases\n",
    "\n",
    "Conclusion: L of HLS looks just a bit more distinguishable visually, so going with that\n",
    "\n",
    "Possible data generation methods:\n",
    "(from attached paper)\n",
    "- jittering (random perturbation translate [-2,2] pixles; scale [.9, 1.1]; rotate [-15,+15] degrees)\n",
    "- suggested to try perturbations of brightness, contrast, blur\n",
    "(my ideas)\n",
    "- create a class of non-sign images which are random 32x32 images in RGB, # of samples should be ~ avg # of samples per class"
   ]
  },
  {
   "cell_type": "code",
   "execution_count": null,
   "metadata": {
    "collapsed": false
   },
   "outputs": [],
   "source": [
    "### Preprocess the data here.\n",
    "### Feel free to use as many code cells as needed.\n",
    "def single_channel_L_HLS(data):\n",
    "    result = np.empty([len(data), 32, 32])\n",
    "    for i in range(len(data)):\n",
    "        result[i] = cv2.cvtColor(data[i], cv2.COLOR_RGB2HLS)[:,:,1]\n",
    "    return result\n",
    "\n",
    "# convert RGB to L of HLS\n",
    "# data was n*32*32*3, now n*32*32\n",
    "X_train = single_channel_L_HLS(X_train)\n",
    "X_test = single_channel_L_HLS(X_test)\n",
    "print('done converting to single channel')"
   ]
  },
  {
   "cell_type": "code",
   "execution_count": null,
   "metadata": {
    "collapsed": false
   },
   "outputs": [],
   "source": [
    "# create jittered duplicates (for training set only)\n",
    "\n",
    "# returns img copy randomly jittered\n",
    "def jitter(source):     \n",
    "    # rotate\n",
    "    # add padding and copy img into center\n",
    "    border = 8\n",
    "    new_dim = 32 + 2*border\n",
    "    frame = cv2.copyMakeBorder(np.zeros((new_dim, new_dim)), border, border, border, border, cv2.BORDER_CONSTANT, value=[127, 127, 127])\n",
    "    \n",
    "    for i in range(border, border + 32):\n",
    "        for j in range(border, border + 32):\n",
    "            frame[i][j] = source[i - border][j - border]\n",
    "    \n",
    "    rotation_deg = random.uniform(-15, 15)\n",
    "    height, width = frame.shape[:2]\n",
    "    rotation_matrix = cv2.getRotationMatrix2D((width / 2, height / 2), rotation_deg, 1.0)\n",
    "    frame = cv2.warpAffine(frame, rotation_matrix, (width, height))\n",
    "    \n",
    "    # extract from center\n",
    "    img = frame[border:border + 32, border:border + 32]\n",
    "    \n",
    "    # translate (fill emptied row/column with nearest row or original image)\n",
    "    translation_dim1 = random.randint(-2, 2)\n",
    "    dim1_order = list(range(32))\n",
    "    if translation_dim1 > 0:\n",
    "        dim1_order = [0] * translation_dim1 + dim1_order[:-translation_dim1]\n",
    "    elif translation_dim1 < 0:\n",
    "        dim1_order = dim1_order[-translation_dim1:] + [dim1_order[-1]] * -translation_dim1\n",
    "            \n",
    "    translation_dim2 = random.randint(-2, 2)\n",
    "    dim2_order = list(range(32))\n",
    "    if translation_dim2 > 0:\n",
    "        dim2_order = [0] * translation_dim2 + dim2_order[:-translation_dim2]\n",
    "    elif translation_dim2 < 0:\n",
    "        dim2_order = dim2_order[-translation_dim2:] + [dim2_order[-1]] * -translation_dim2\n",
    "            \n",
    "    img = np.array([[img[i][j] for j in dim2_order] for i in dim1_order])\n",
    "    \n",
    "    # scale\n",
    "    scale = random.uniform(0.9, 1.1)\n",
    "    # pixels, rounded to even pixel value to assist cropping\n",
    "    new_size = round(scale * 32 / 2) * 2\n",
    "    scaled_img = cv2.resize(img, (new_size, new_size))\n",
    "\n",
    "    margin = abs(new_size - 32) / 2\n",
    "    index_max = 31 - margin\n",
    "    if new_size > 32:\n",
    "        img = scaled_img[margin:(margin + 32), margin:(margin + 32)]\n",
    "    elif new_size < 32:\n",
    "        # fill center of old image with new image\n",
    "        for i in range(len(img)):\n",
    "            for j in range(len(img[0])):\n",
    "                if i >= margin and i <= index_max and j >= margin and j <= index_max:\n",
    "                    img[i][j] = scaled_img[i - margin][j - margin]\n",
    "                    \n",
    "    return img\n",
    "\n",
    "# 5 jittered versions + original img\n",
    "n_train = len(y_train)\n",
    "\n",
    "X_train = np.resize(X_train, (n_train * 6, 32, 32))\n",
    "y_train = np.resize(y_train, n_train * 6)\n",
    "\n",
    "for i in range(n_train):\n",
    "    if i % 1000 == 0: print('processing image', i)\n",
    "    for j in range(1, 6):\n",
    "        new_index = j * n_train + i\n",
    "        X_train[new_index] = jitter(X_train[i])\n",
    "        y_train[new_index] = y_train[i]\n",
    "        \n",
    "# multiply examples by 6 (original + 5 jittered)\n",
    "print(len(X_train))"
   ]
  },
  {
   "cell_type": "code",
   "execution_count": null,
   "metadata": {
    "collapsed": false
   },
   "outputs": [],
   "source": [
    "# sanity check for jittered imgs\n",
    "import matplotlib.pyplot as plot\n",
    "\n",
    "def show_img_plot_gray(name, img, figure_num):\n",
    "    plot.figure(figure_num)\n",
    "    plot.imshow(img, cmap='gray')\n",
    "    plot.title(name)\n",
    "    plot.show()\n",
    "    \n",
    "for i in range(1000, n_train, int(n_train / 6)):\n",
    "    show_img_plot_gray('Class 0, example ' + str(i), X_train[i], i)"
   ]
  },
  {
   "cell_type": "code",
   "execution_count": null,
   "metadata": {
    "collapsed": false
   },
   "outputs": [],
   "source": [
    "def global_normalize(data):\n",
    "    for i in range(len(data)):\n",
    "        data[i] = cv2.normalize(data[i], data[i], alpha=-0.5, beta=0.5, norm_type=cv2.NORM_MINMAX, dtype=cv2.CV_32F)\n",
    "\n",
    "# normalize pixels to [0, 1]\n",
    "global_normalize(X_train)\n",
    "global_normalize(X_test)\n",
    "print('done normalizing')"
   ]
  },
  {
   "cell_type": "code",
   "execution_count": null,
   "metadata": {
    "collapsed": false
   },
   "outputs": [],
   "source": [
    "# pickle preprocessed data without additional data\n",
    "import pickle\n",
    "\n",
    "with open('x_train_normalized_1.p', mode='wb') as f:\n",
    "    pickle.dump(X_train, f)\n",
    "with open('y_train_normalized_1.p', mode='wb') as f:\n",
    "    pickle.dump(y_train, f)  \n",
    "with open('x_test_normalized_1.p', mode='wb') as f:\n",
    "    pickle.dump(X_test, f)\n",
    "with open('y_test_normalized_1.p', mode='wb') as f:\n",
    "    pickle.dump(y_test, f)\n",
    "\n",
    "print('preprocessed data without additional data saved')"
   ]
  },
  {
   "cell_type": "code",
   "execution_count": null,
   "metadata": {
    "collapsed": true
   },
   "outputs": [],
   "source": [
    "# pickle preprocessed data with additional data\n",
    "import pickle\n",
    "\n",
    "with open('x_train_normalized_2.p', mode='wb') as f:\n",
    "    pickle.dump(X_train, f)\n",
    "with open('y_train_normalized_2.p', mode='wb') as f:\n",
    "    pickle.dump(y_train, f)  \n",
    "with open('x_test_normalized_2.p', mode='wb') as f:\n",
    "    pickle.dump(X_test, f)\n",
    "with open('y_test_normalized_2.p', mode='wb') as f:\n",
    "    pickle.dump(y_test, f)\n",
    "\n",
    "print('preprocessed data with additional data saved')"
   ]
  },
  {
   "cell_type": "code",
   "execution_count": 2,
   "metadata": {
    "collapsed": false
   },
   "outputs": [
    {
     "name": "stdout",
     "output_type": "stream",
     "text": [
      "preprocessed data loaded\n"
     ]
    }
   ],
   "source": [
    "# unpickle preprocessed data without additional data\n",
    "import pickle\n",
    "\n",
    "with open('x_train_normalized_1.p', mode='rb') as f:\n",
    "    X_train = pickle.load(f)\n",
    "with open('y_train_normalized_1.p', mode='rb') as f:\n",
    "    y_train = pickle.load(f)  \n",
    "with open('x_test_normalized_1.p', mode='rb') as f:\n",
    "    X_test = pickle.load(f)\n",
    "with open('y_test_normalized_1.p', mode='rb') as f:\n",
    "    y_test = pickle.load(f)\n",
    "    \n",
    "print('preprocessed data without additional data loaded')"
   ]
  },
  {
   "cell_type": "code",
   "execution_count": null,
   "metadata": {
    "collapsed": true
   },
   "outputs": [],
   "source": [
    "# unpickle preprocessed data with additional data\n",
    "import pickle\n",
    "\n",
    "with open('x_train_normalized_2.p', mode='rb') as f:\n",
    "    X_train = pickle.load(f)\n",
    "with open('y_train_normalized_2.p', mode='rb') as f:\n",
    "    y_train = pickle.load(f)  \n",
    "with open('x_test_normalized_2.p', mode='rb') as f:\n",
    "    X_test = pickle.load(f)\n",
    "with open('y_test_normalized_2.p', mode='rb') as f:\n",
    "    y_test = pickle.load(f)\n",
    "    \n",
    "print('preprocessed data with additional data loaded')"
   ]
  },
  {
   "cell_type": "markdown",
   "metadata": {},
   "source": [
    "### Question 1 \n",
    "\n",
    "_Describe the techniques used to preprocess the data._"
   ]
  },
  {
   "cell_type": "markdown",
   "metadata": {},
   "source": [
    "**Answer:**\n",
    "\n",
    "- Color filtering: transformed to HLS color space and extracted L channel. Best choice based on my visual inspection, but Y of YUV or grayscale would have been close choices\n",
    "- Local normalization: simple cv2.blur filter\n",
    "- Global normalization: transformed [0,255] pixel space to [0,1]"
   ]
  },
  {
   "cell_type": "code",
   "execution_count": 3,
   "metadata": {
    "collapsed": false
   },
   "outputs": [
    {
     "name": "stdout",
     "output_type": "stream",
     "text": [
      "done\n"
     ]
    }
   ],
   "source": [
    "### and split the data into training/validation/testing sets here.\n",
    "### Feel free to use as many code cells as needed.\n",
    "from sklearn.model_selection import train_test_split\n",
    "import numpy as np\n",
    "\n",
    "# TODO: Use `train_test_split` here.\n",
    "X_train, X_val, y_train, y_val = train_test_split(X_train, y_train, test_size=0.1, random_state=42)\n",
    "\n",
    "print('done splitting training and validation sets')"
   ]
  },
  {
   "cell_type": "markdown",
   "metadata": {},
   "source": [
    "### Question 2\n",
    "\n",
    "_Describe how you set up the training, validation and testing data for your model. If you generated additional data, why?_"
   ]
  },
  {
   "cell_type": "markdown",
   "metadata": {},
   "source": [
    "**Answer:**\n",
    "\n",
    "#### Training Set Selection\n",
    "\n",
    "- picked randomly from the first 90% of the training set after shuffling.\n",
    "\n",
    "#### Additional Data\n",
    "\n",
    "- Generated 5 additional data sets by randomly jittering the training set, as in the attached paper, perturbing the image by rotating [-15,+15] degrees, translating [-2,2] pixels, scaling [.9, 1.1] times. Padding for the rotation was middle gray for ease of implementation, but random may be better. Padding for scaling when needed (when scaling down) was the original image pixels on the border duplicated."
   ]
  },
  {
   "cell_type": "code",
   "execution_count": 6,
   "metadata": {
    "collapsed": true
   },
   "outputs": [],
   "source": [
    "### Define your architecture here.\n",
    "### Feel free to use as many code cells as needed.\n",
    "import tensorflow as tf"
   ]
  },
  {
   "cell_type": "code",
   "execution_count": 7,
   "metadata": {
    "collapsed": false
   },
   "outputs": [
    {
     "name": "stdout",
     "output_type": "stream",
     "text": [
      "done\n"
     ]
    }
   ],
   "source": [
    "def conv_net(x):\n",
    "    x = tf.expand_dims(x, 3)\n",
    "    \n",
    "    # 30x30x32\n",
    "    W1 = tf.Variable(tf.truncated_normal([3, 3, 1, 32]))\n",
    "    b1 = tf.Variable(tf.zeros(32))\n",
    "    conv1 = tf.nn.conv2d(x, W1, strides=[1, 1, 1, 1], padding='VALID')\n",
    "    conv1 = tf.nn.bias_add(conv1, b1)\n",
    "    conv1 = tf.nn.relu(conv1)\n",
    "\n",
    "    # 28x28x128\n",
    "    W2 = tf.Variable(tf.truncated_normal([3, 3, 32, 128]))\n",
    "    b2 = tf.Variable(tf.zeros(128))\n",
    "    conv2 = tf.nn.conv2d(conv1, W2, strides=[1, 1, 1, 1], padding='VALID')\n",
    "    conv2 = tf.nn.bias_add(conv2, b2)\n",
    "    conv2 = tf.nn.relu(conv2)\n",
    "\n",
    "    # 14x14x128\n",
    "    pool = tf.nn.max_pool(conv2, ksize=[1, 2, 2, 1], strides=[1, 2, 2, 1], padding='VALID')\n",
    "    \n",
    "    pool = tf.nn.dropout(pool, 0.25)\n",
    "    \n",
    "    fc1 = tf.reshape(pool, [-1, 14*14*128])\n",
    "    fc1_W = tf.Variable(tf.truncated_normal(shape=(14*14*128, 128)))\n",
    "    fc1_b = tf.Variable(tf.zeros(128))\n",
    "    fc1 = tf.matmul(fc1, fc1_W) + fc1_b\n",
    "    fc1 = tf.nn.relu(fc1)\n",
    "    \n",
    "    fc1 = tf.nn.dropout(fc1, 0.5)\n",
    "\n",
    "    fc2_W = tf.Variable(tf.truncated_normal(shape=(128, 43)))\n",
    "    fc2_b = tf.Variable(tf.zeros(43))\n",
    "    result = tf.matmul(fc1, fc2_W) + fc2_b\n",
    "    \n",
    "    return result\n",
    "\n",
    "x = tf.placeholder(\"float\", [None, 32, 32])\n",
    "y = tf.placeholder(\"float\", [None])\n",
    "\n",
    "y_one_hot = tf.one_hot(tf.cast(y, tf.int32), 43)\n",
    "\n",
    "logits = conv_net(x)\n",
    "\n",
    "learning_rate = 0.001\n",
    "\n",
    "# Define loss and optimizer\n",
    "cost = tf.reduce_mean(tf.nn.softmax_cross_entropy_with_logits(logits, y_one_hot))\n",
    "optimizer = tf.train.AdamOptimizer(learning_rate=learning_rate).minimize(cost)\n",
    "\n",
    "# validation\n",
    "correct_prediction = tf.equal(tf.argmax(logits, 1), tf.argmax(y_one_hot, 1))\n",
    "accuracy = tf.reduce_mean(tf.cast(correct_prediction, \"float\"))\n",
    "\n",
    "init = tf.initialize_all_variables()\n",
    "print('done')"
   ]
  },
  {
   "cell_type": "markdown",
   "metadata": {},
   "source": [
    "### Question 3\n",
    "\n",
    "_What does your final architecture look like? (Type of model, layers, sizes, connectivity, etc.)  For reference on how to build a deep neural network using TensorFlow, see [Deep Neural Network in TensorFlow\n",
    "](https://classroom.udacity.com/nanodegrees/nd013/parts/fbf77062-5703-404e-b60c-95b78b2f3f9e/modules/6df7ae49-c61c-4bb2-a23e-6527e69209ec/lessons/b516a270-8600-4f93-a0a3-20dfeabe5da6/concepts/83a3a2a2-a9bd-4b7b-95b0-eb924ab14432) from the classroom._\n"
   ]
  },
  {
   "cell_type": "markdown",
   "metadata": {},
   "source": [
    "**Answer:**"
   ]
  },
  {
   "cell_type": "code",
   "execution_count": 8,
   "metadata": {
    "collapsed": false
   },
   "outputs": [
    {
     "name": "stdout",
     "output_type": "stream",
     "text": [
      "240726 training examples\n",
      "batch size 352\n",
      "epochs 50\n",
      "683 batches per epoch\n",
      "learning rate 0.001\n",
      "epoch 0 batch 0\n",
      "epoch 0 batch 100\n",
      "epoch 0 batch 200\n",
      "epoch 0 batch 300\n",
      "epoch 0 batch 400\n",
      "epoch 0 batch 500\n",
      "epoch 0 batch 600\n",
      "Epoch: 0001 cost= 3.826850176\n",
      "Accuracy: 0.0195173\n",
      "epoch 1 batch 0\n",
      "epoch 1 batch 100\n",
      "epoch 1 batch 200\n",
      "epoch 1 batch 300\n",
      "epoch 1 batch 400\n",
      "epoch 1 batch 500\n",
      "epoch 1 batch 600\n",
      "Epoch: 0002 cost= 3.784192801\n",
      "Accuracy: 0.0194757\n",
      "epoch 2 batch 0\n",
      "epoch 2 batch 100\n",
      "epoch 2 batch 200\n",
      "epoch 2 batch 300\n",
      "epoch 2 batch 400\n",
      "epoch 2 batch 500\n",
      "epoch 2 batch 600\n",
      "Epoch: 0003 cost= 3.785310268\n",
      "Accuracy: 0.0194757\n",
      "epoch 3 batch 0\n",
      "epoch 3 batch 100\n",
      "epoch 3 batch 200\n",
      "epoch 3 batch 300\n",
      "epoch 3 batch 400\n",
      "epoch 3 batch 500\n",
      "epoch 3 batch 600\n",
      "Epoch: 0004 cost= 3.784190178\n",
      "Accuracy: 0.019434\n",
      "epoch 4 batch 0\n",
      "epoch 4 batch 100\n",
      "epoch 4 batch 200\n",
      "epoch 4 batch 300\n",
      "epoch 4 batch 400\n",
      "epoch 4 batch 500\n",
      "epoch 4 batch 600\n",
      "Epoch: 0005 cost= 3.784191132\n"
     ]
    },
    {
     "ename": "KeyboardInterrupt",
     "evalue": "",
     "output_type": "error",
     "traceback": [
      "\u001b[0;31m---------------------------------------------------------------------------\u001b[0m",
      "\u001b[0;31mKeyboardInterrupt\u001b[0m                         Traceback (most recent call last)",
      "\u001b[0;32m<ipython-input-8-5c48837595d4>\u001b[0m in \u001b[0;36m<module>\u001b[0;34m()\u001b[0m\n\u001b[1;32m     25\u001b[0m         \u001b[0mc\u001b[0m \u001b[0;34m=\u001b[0m \u001b[0msess\u001b[0m\u001b[0;34m.\u001b[0m\u001b[0mrun\u001b[0m\u001b[0;34m(\u001b[0m\u001b[0mcost\u001b[0m\u001b[0;34m,\u001b[0m \u001b[0mfeed_dict\u001b[0m\u001b[0;34m=\u001b[0m\u001b[0;34m{\u001b[0m\u001b[0mx\u001b[0m\u001b[0;34m:\u001b[0m \u001b[0mbatch_x\u001b[0m\u001b[0;34m,\u001b[0m \u001b[0my\u001b[0m\u001b[0;34m:\u001b[0m \u001b[0mbatch_y\u001b[0m\u001b[0;34m}\u001b[0m\u001b[0;34m)\u001b[0m\u001b[0;34m\u001b[0m\u001b[0m\n\u001b[1;32m     26\u001b[0m         \u001b[0mprint\u001b[0m\u001b[0;34m(\u001b[0m\u001b[0;34m\"Epoch:\"\u001b[0m\u001b[0;34m,\u001b[0m \u001b[0;34m'%04d'\u001b[0m \u001b[0;34m%\u001b[0m \u001b[0;34m(\u001b[0m\u001b[0mepoch\u001b[0m\u001b[0;34m+\u001b[0m\u001b[0;36m1\u001b[0m\u001b[0;34m)\u001b[0m\u001b[0;34m,\u001b[0m \u001b[0;34m\"cost=\"\u001b[0m\u001b[0;34m,\u001b[0m \u001b[0;34m\"{:.9f}\"\u001b[0m\u001b[0;34m.\u001b[0m\u001b[0mformat\u001b[0m\u001b[0;34m(\u001b[0m\u001b[0mc\u001b[0m\u001b[0;34m)\u001b[0m\u001b[0;34m)\u001b[0m\u001b[0;34m\u001b[0m\u001b[0m\n\u001b[0;32m---> 27\u001b[0;31m         \u001b[0mprint\u001b[0m\u001b[0;34m(\u001b[0m\u001b[0;34m\"Accuracy:\"\u001b[0m\u001b[0;34m,\u001b[0m \u001b[0maccuracy\u001b[0m\u001b[0;34m.\u001b[0m\u001b[0meval\u001b[0m\u001b[0;34m(\u001b[0m\u001b[0;34m{\u001b[0m\u001b[0mx\u001b[0m\u001b[0;34m:\u001b[0m \u001b[0mvalidation_x\u001b[0m\u001b[0;34m,\u001b[0m \u001b[0my\u001b[0m\u001b[0;34m:\u001b[0m \u001b[0mvalidation_y\u001b[0m\u001b[0;34m}\u001b[0m\u001b[0;34m)\u001b[0m\u001b[0;34m)\u001b[0m\u001b[0;34m\u001b[0m\u001b[0m\n\u001b[0m\u001b[1;32m     28\u001b[0m     \u001b[0mprint\u001b[0m\u001b[0;34m(\u001b[0m\u001b[0;34m\"Optimization Finished!\"\u001b[0m\u001b[0;34m)\u001b[0m\u001b[0;34m\u001b[0m\u001b[0m\n\u001b[1;32m     29\u001b[0m \u001b[0;34m\u001b[0m\u001b[0m\n",
      "\u001b[0;32m/Users/afrides/anaconda3/envs/car/lib/python3.5/site-packages/tensorflow/python/framework/ops.py\u001b[0m in \u001b[0;36meval\u001b[0;34m(self, feed_dict, session)\u001b[0m\n\u001b[1;32m    557\u001b[0m \u001b[0;34m\u001b[0m\u001b[0m\n\u001b[1;32m    558\u001b[0m     \"\"\"\n\u001b[0;32m--> 559\u001b[0;31m     \u001b[0;32mreturn\u001b[0m \u001b[0m_eval_using_default_session\u001b[0m\u001b[0;34m(\u001b[0m\u001b[0mself\u001b[0m\u001b[0;34m,\u001b[0m \u001b[0mfeed_dict\u001b[0m\u001b[0;34m,\u001b[0m \u001b[0mself\u001b[0m\u001b[0;34m.\u001b[0m\u001b[0mgraph\u001b[0m\u001b[0;34m,\u001b[0m \u001b[0msession\u001b[0m\u001b[0;34m)\u001b[0m\u001b[0;34m\u001b[0m\u001b[0m\n\u001b[0m\u001b[1;32m    560\u001b[0m \u001b[0;34m\u001b[0m\u001b[0m\n\u001b[1;32m    561\u001b[0m \u001b[0;34m\u001b[0m\u001b[0m\n",
      "\u001b[0;32m/Users/afrides/anaconda3/envs/car/lib/python3.5/site-packages/tensorflow/python/framework/ops.py\u001b[0m in \u001b[0;36m_eval_using_default_session\u001b[0;34m(tensors, feed_dict, graph, session)\u001b[0m\n\u001b[1;32m   3759\u001b[0m                        \u001b[0;34m\"the tensor's graph is different from the session's \"\u001b[0m\u001b[0;34m\u001b[0m\u001b[0m\n\u001b[1;32m   3760\u001b[0m                        \"graph.\")\n\u001b[0;32m-> 3761\u001b[0;31m   \u001b[0;32mreturn\u001b[0m \u001b[0msession\u001b[0m\u001b[0;34m.\u001b[0m\u001b[0mrun\u001b[0m\u001b[0;34m(\u001b[0m\u001b[0mtensors\u001b[0m\u001b[0;34m,\u001b[0m \u001b[0mfeed_dict\u001b[0m\u001b[0;34m)\u001b[0m\u001b[0;34m\u001b[0m\u001b[0m\n\u001b[0m\u001b[1;32m   3762\u001b[0m \u001b[0;34m\u001b[0m\u001b[0m\n\u001b[1;32m   3763\u001b[0m \u001b[0;34m\u001b[0m\u001b[0m\n",
      "\u001b[0;32m/Users/afrides/anaconda3/envs/car/lib/python3.5/site-packages/tensorflow/python/client/session.py\u001b[0m in \u001b[0;36mrun\u001b[0;34m(self, fetches, feed_dict, options, run_metadata)\u001b[0m\n\u001b[1;32m    715\u001b[0m     \u001b[0;32mtry\u001b[0m\u001b[0;34m:\u001b[0m\u001b[0;34m\u001b[0m\u001b[0m\n\u001b[1;32m    716\u001b[0m       result = self._run(None, fetches, feed_dict, options_ptr,\n\u001b[0;32m--> 717\u001b[0;31m                          run_metadata_ptr)\n\u001b[0m\u001b[1;32m    718\u001b[0m       \u001b[0;32mif\u001b[0m \u001b[0mrun_metadata\u001b[0m\u001b[0;34m:\u001b[0m\u001b[0;34m\u001b[0m\u001b[0m\n\u001b[1;32m    719\u001b[0m         \u001b[0mproto_data\u001b[0m \u001b[0;34m=\u001b[0m \u001b[0mtf_session\u001b[0m\u001b[0;34m.\u001b[0m\u001b[0mTF_GetBuffer\u001b[0m\u001b[0;34m(\u001b[0m\u001b[0mrun_metadata_ptr\u001b[0m\u001b[0;34m)\u001b[0m\u001b[0;34m\u001b[0m\u001b[0m\n",
      "\u001b[0;32m/Users/afrides/anaconda3/envs/car/lib/python3.5/site-packages/tensorflow/python/client/session.py\u001b[0m in \u001b[0;36m_run\u001b[0;34m(self, handle, fetches, feed_dict, options, run_metadata)\u001b[0m\n\u001b[1;32m    913\u001b[0m     \u001b[0;32mif\u001b[0m \u001b[0mfinal_fetches\u001b[0m \u001b[0;32mor\u001b[0m \u001b[0mfinal_targets\u001b[0m\u001b[0;34m:\u001b[0m\u001b[0;34m\u001b[0m\u001b[0m\n\u001b[1;32m    914\u001b[0m       results = self._do_run(handle, final_targets, final_fetches,\n\u001b[0;32m--> 915\u001b[0;31m                              feed_dict_string, options, run_metadata)\n\u001b[0m\u001b[1;32m    916\u001b[0m     \u001b[0;32melse\u001b[0m\u001b[0;34m:\u001b[0m\u001b[0;34m\u001b[0m\u001b[0m\n\u001b[1;32m    917\u001b[0m       \u001b[0mresults\u001b[0m \u001b[0;34m=\u001b[0m \u001b[0;34m[\u001b[0m\u001b[0;34m]\u001b[0m\u001b[0;34m\u001b[0m\u001b[0m\n",
      "\u001b[0;32m/Users/afrides/anaconda3/envs/car/lib/python3.5/site-packages/tensorflow/python/client/session.py\u001b[0m in \u001b[0;36m_do_run\u001b[0;34m(self, handle, target_list, fetch_list, feed_dict, options, run_metadata)\u001b[0m\n\u001b[1;32m    963\u001b[0m     \u001b[0;32mif\u001b[0m \u001b[0mhandle\u001b[0m \u001b[0;32mis\u001b[0m \u001b[0;32mNone\u001b[0m\u001b[0;34m:\u001b[0m\u001b[0;34m\u001b[0m\u001b[0m\n\u001b[1;32m    964\u001b[0m       return self._do_call(_run_fn, self._session, feed_dict, fetch_list,\n\u001b[0;32m--> 965\u001b[0;31m                            target_list, options, run_metadata)\n\u001b[0m\u001b[1;32m    966\u001b[0m     \u001b[0;32melse\u001b[0m\u001b[0;34m:\u001b[0m\u001b[0;34m\u001b[0m\u001b[0m\n\u001b[1;32m    967\u001b[0m       return self._do_call(_prun_fn, self._session, handle, feed_dict,\n",
      "\u001b[0;32m/Users/afrides/anaconda3/envs/car/lib/python3.5/site-packages/tensorflow/python/client/session.py\u001b[0m in \u001b[0;36m_do_call\u001b[0;34m(self, fn, *args)\u001b[0m\n\u001b[1;32m    970\u001b[0m   \u001b[0;32mdef\u001b[0m \u001b[0m_do_call\u001b[0m\u001b[0;34m(\u001b[0m\u001b[0mself\u001b[0m\u001b[0;34m,\u001b[0m \u001b[0mfn\u001b[0m\u001b[0;34m,\u001b[0m \u001b[0;34m*\u001b[0m\u001b[0margs\u001b[0m\u001b[0;34m)\u001b[0m\u001b[0;34m:\u001b[0m\u001b[0;34m\u001b[0m\u001b[0m\n\u001b[1;32m    971\u001b[0m     \u001b[0;32mtry\u001b[0m\u001b[0;34m:\u001b[0m\u001b[0;34m\u001b[0m\u001b[0m\n\u001b[0;32m--> 972\u001b[0;31m       \u001b[0;32mreturn\u001b[0m \u001b[0mfn\u001b[0m\u001b[0;34m(\u001b[0m\u001b[0;34m*\u001b[0m\u001b[0margs\u001b[0m\u001b[0;34m)\u001b[0m\u001b[0;34m\u001b[0m\u001b[0m\n\u001b[0m\u001b[1;32m    973\u001b[0m     \u001b[0;32mexcept\u001b[0m \u001b[0merrors\u001b[0m\u001b[0;34m.\u001b[0m\u001b[0mOpError\u001b[0m \u001b[0;32mas\u001b[0m \u001b[0me\u001b[0m\u001b[0;34m:\u001b[0m\u001b[0;34m\u001b[0m\u001b[0m\n\u001b[1;32m    974\u001b[0m       \u001b[0mmessage\u001b[0m \u001b[0;34m=\u001b[0m \u001b[0mcompat\u001b[0m\u001b[0;34m.\u001b[0m\u001b[0mas_text\u001b[0m\u001b[0;34m(\u001b[0m\u001b[0me\u001b[0m\u001b[0;34m.\u001b[0m\u001b[0mmessage\u001b[0m\u001b[0;34m)\u001b[0m\u001b[0;34m\u001b[0m\u001b[0m\n",
      "\u001b[0;32m/Users/afrides/anaconda3/envs/car/lib/python3.5/site-packages/tensorflow/python/client/session.py\u001b[0m in \u001b[0;36m_run_fn\u001b[0;34m(session, feed_dict, fetch_list, target_list, options, run_metadata)\u001b[0m\n\u001b[1;32m    952\u001b[0m         return tf_session.TF_Run(session, options,\n\u001b[1;32m    953\u001b[0m                                  \u001b[0mfeed_dict\u001b[0m\u001b[0;34m,\u001b[0m \u001b[0mfetch_list\u001b[0m\u001b[0;34m,\u001b[0m \u001b[0mtarget_list\u001b[0m\u001b[0;34m,\u001b[0m\u001b[0;34m\u001b[0m\u001b[0m\n\u001b[0;32m--> 954\u001b[0;31m                                  status, run_metadata)\n\u001b[0m\u001b[1;32m    955\u001b[0m \u001b[0;34m\u001b[0m\u001b[0m\n\u001b[1;32m    956\u001b[0m     \u001b[0;32mdef\u001b[0m \u001b[0m_prun_fn\u001b[0m\u001b[0;34m(\u001b[0m\u001b[0msession\u001b[0m\u001b[0;34m,\u001b[0m \u001b[0mhandle\u001b[0m\u001b[0;34m,\u001b[0m \u001b[0mfeed_dict\u001b[0m\u001b[0;34m,\u001b[0m \u001b[0mfetch_list\u001b[0m\u001b[0;34m)\u001b[0m\u001b[0;34m:\u001b[0m\u001b[0;34m\u001b[0m\u001b[0m\n",
      "\u001b[0;31mKeyboardInterrupt\u001b[0m: "
     ]
    }
   ],
   "source": [
    "### Train your model here.\n",
    "### Feel free to use as many code cells as needed.\n",
    "saver = tf.train.Saver()\n",
    "\n",
    "batch_size = 128\n",
    "training_epochs = 100\n",
    "\n",
    "print(len(y_train), 'training examples')\n",
    "print('learning rate', learning_rate)\n",
    "print('batch size', batch_size)\n",
    "print('epochs', training_epochs)\n",
    "\n",
    "with tf.Session() as sess:\n",
    "    sess.run(init)\n",
    "    # Training cycle\n",
    "    for epoch in range(training_epochs):\n",
    "        # Loop over all batches\n",
    "        i = 0\n",
    "        while i < len(y_train): \n",
    "            batch_x = X_train[i:i+batch_size]\n",
    "            batch_y = y_train[i:i+batch_size]\n",
    "            sess.run(optimizer, feed_dict={x: batch_x, y: batch_y})\n",
    "            i = i + batch_size\n",
    "        # Display logs per epoch step\n",
    "        c = sess.run(cost, feed_dict={x: X_train, y: y_train})\n",
    "        print(\"Epoch:\", '%04d' % (epoch+1), \"cost=\", \"{:.9f}\".format(c))\n",
    "        print(\"Accuracy:\", accuracy.eval({x: X_val, y: y_val}))\n",
    "    print(\"Optimization Finished!\")\n",
    "\n",
    "    # Save the variables to disk.\n",
    "    save_path = saver.save(sess, \"/Users/afrides/udacity/car/project2/model_1.ckpt\")\n",
    "    print(\"Model saved in file: %s\" % save_path)\n"
   ]
  },
  {
   "cell_type": "markdown",
   "metadata": {},
   "source": [
    "### Question 4\n",
    "\n",
    "_How did you train your model? (Type of optimizer, batch size, epochs, hyperparameters, etc.)_\n"
   ]
  },
  {
   "cell_type": "markdown",
   "metadata": {},
   "source": [
    "**Answer:**"
   ]
  },
  {
   "cell_type": "markdown",
   "metadata": {},
   "source": [
    "### Question 5\n",
    "\n",
    "\n",
    "_What approach did you take in coming up with a solution to this problem?_"
   ]
  },
  {
   "cell_type": "markdown",
   "metadata": {},
   "source": [
    "**Answer:**"
   ]
  },
  {
   "cell_type": "markdown",
   "metadata": {},
   "source": [
    "---\n",
    "\n",
    "## Step 3: Test a Model on New Images\n",
    "\n",
    "Take several pictures of traffic signs that you find on the web or around you (at least five), and run them through your classifier on your computer to produce example results. The classifier might not recognize some local signs but it could prove interesting nonetheless.\n",
    "\n",
    "You may find `signnames.csv` useful as it contains mappings from the class id (integer) to the actual sign name."
   ]
  },
  {
   "cell_type": "markdown",
   "metadata": {},
   "source": [
    "### Implementation\n",
    "\n",
    "Use the code cell (or multiple code cells, if necessary) to implement the first step of your project. Once you have completed your implementation and are satisfied with the results, be sure to thoroughly answer the questions that follow."
   ]
  },
  {
   "cell_type": "code",
   "execution_count": null,
   "metadata": {
    "collapsed": true
   },
   "outputs": [],
   "source": [
    "### Load the images and plot them here.\n",
    "### Feel free to use as many code cells as needed."
   ]
  },
  {
   "cell_type": "markdown",
   "metadata": {},
   "source": [
    "### Question 6\n",
    "\n",
    "_Choose five candidate images of traffic signs and provide them in the report. Are there any particular qualities of the image(s) that might make classification difficult? It would be helpful to plot the images in the notebook._\n",
    "\n"
   ]
  },
  {
   "cell_type": "markdown",
   "metadata": {},
   "source": [
    "**Answer:**"
   ]
  },
  {
   "cell_type": "code",
   "execution_count": null,
   "metadata": {
    "collapsed": true
   },
   "outputs": [],
   "source": [
    "### Run the predictions here.\n",
    "### Feel free to use as many code cells as needed."
   ]
  },
  {
   "cell_type": "markdown",
   "metadata": {},
   "source": [
    "### Question 7\n",
    "\n",
    "_Is your model able to perform equally well on captured pictures or a live camera stream when compared to testing on the dataset?_\n"
   ]
  },
  {
   "cell_type": "markdown",
   "metadata": {},
   "source": [
    "**Answer:**"
   ]
  },
  {
   "cell_type": "code",
   "execution_count": null,
   "metadata": {
    "collapsed": true
   },
   "outputs": [],
   "source": [
    "### Visualize the softmax probabilities here.\n",
    "### Feel free to use as many code cells as needed."
   ]
  },
  {
   "cell_type": "markdown",
   "metadata": {},
   "source": [
    "### Question 8\n",
    "\n",
    "*Use the model's softmax probabilities to visualize the **certainty** of its predictions, [`tf.nn.top_k`](https://www.tensorflow.org/versions/r0.11/api_docs/python/nn.html#top_k) could prove helpful here. Which predictions is the model certain of? Uncertain? If the model was incorrect in its initial prediction, does the correct prediction appear in the top k? (k should be 5 at most)*\n"
   ]
  },
  {
   "cell_type": "markdown",
   "metadata": {},
   "source": [
    "**Answer:**"
   ]
  },
  {
   "cell_type": "markdown",
   "metadata": {},
   "source": [
    "### Question 9\n",
    "_If necessary, provide documentation for how an interface was built for your model to load and classify newly-acquired images._\n"
   ]
  },
  {
   "cell_type": "markdown",
   "metadata": {},
   "source": [
    "**Answer:**"
   ]
  },
  {
   "cell_type": "markdown",
   "metadata": {},
   "source": [
    "> **Note**: Once you have completed all of the code implementations and successfully answered each question above, you may finalize your work by exporting the iPython Notebook as an HTML document. You can do this by using the menu above and navigating to  \\n\",\n",
    "    \"**File -> Download as -> HTML (.html)**. Include the finished document along with this notebook as your submission."
   ]
  },
  {
   "cell_type": "code",
   "execution_count": null,
   "metadata": {
    "collapsed": true
   },
   "outputs": [],
   "source": []
  }
 ],
 "metadata": {
  "anaconda-cloud": {},
  "kernelspec": {
   "display_name": "Python [conda env:car]",
   "language": "python",
   "name": "conda-env-car-py"
  },
  "language_info": {
   "codemirror_mode": {
    "name": "ipython",
    "version": 3
   },
   "file_extension": ".py",
   "mimetype": "text/x-python",
   "name": "python",
   "nbconvert_exporter": "python",
   "pygments_lexer": "ipython3",
   "version": "3.5.2"
  }
 },
 "nbformat": 4,
 "nbformat_minor": 1
}
